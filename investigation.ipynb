{
 "cells": [
  {
   "cell_type": "markdown",
   "metadata": {},
   "source": [
    "Edinburgh is great. It's my favorite city in the world. When I visit I sometimes stay in a places I find on AirBnb. I thought it would be fun to take a look at AirBnb data in Edinburgh since a few places on the internet offer it for free in nicely packeged csv files. Let's go!\n",
    "\n",
    "We'll start by importing the libraries I used during this project..."
   ]
  },
  {
   "cell_type": "code",
   "execution_count": 1,
   "metadata": {},
   "outputs": [],
   "source": [
    "import numpy as np\n",
    "import pandas as pd\n",
    "from sklearn.model_selection import train_test_split\n",
    "from sklearn.linear_model import LinearRegression\n",
    "from sklearn.metrics import r2_score\n",
    "from sklearn.preprocessing import normalize\n",
    "from scipy.stats.stats import pearsonr\n",
    "from tqdm import tqdm\n",
    "import matplotlib.pyplot as plt\n",
    "%matplotlib inline"
   ]
  },
  {
   "cell_type": "markdown",
   "metadata": {},
   "source": [
    "... and then we'll store the data from the csv in a pandas dataframe."
   ]
  },
  {
   "cell_type": "code",
   "execution_count": 2,
   "metadata": {},
   "outputs": [
    {
     "name": "stderr",
     "output_type": "stream",
     "text": [
      "/anaconda3/envs/py36/lib/python3.6/site-packages/IPython/core/interactiveshell.py:2785: DtypeWarning: Columns (87) have mixed types. Specify dtype option on import or set low_memory=False.\n",
      "  interactivity=interactivity, compiler=compiler, result=result)\n"
     ]
    }
   ],
   "source": [
    "data = pd.read_csv('listings.csv')"
   ]
  },
  {
   "cell_type": "markdown",
   "metadata": {},
   "source": [
    "**Do reviews predict listing price?**"
   ]
  },
  {
   "cell_type": "markdown",
   "metadata": {},
   "source": [
    "We can see a list of columns in the dataframe below. There's lots of data to choose from here. Let's start by investigating whether better review scores predict a higher price."
   ]
  },
  {
   "cell_type": "code",
   "execution_count": 3,
   "metadata": {},
   "outputs": [
    {
     "name": "stdout",
     "output_type": "stream",
     "text": [
      "id\n",
      "listing_url\n",
      "scrape_id\n",
      "last_scraped\n",
      "name\n",
      "summary\n",
      "space\n",
      "description\n",
      "experiences_offered\n",
      "neighborhood_overview\n",
      "notes\n",
      "transit\n",
      "access\n",
      "interaction\n",
      "house_rules\n",
      "thumbnail_url\n",
      "medium_url\n",
      "picture_url\n",
      "xl_picture_url\n",
      "host_id\n",
      "host_url\n",
      "host_name\n",
      "host_since\n",
      "host_location\n",
      "host_about\n",
      "host_response_time\n",
      "host_response_rate\n",
      "host_acceptance_rate\n",
      "host_is_superhost\n",
      "host_thumbnail_url\n",
      "host_picture_url\n",
      "host_neighbourhood\n",
      "host_listings_count\n",
      "host_total_listings_count\n",
      "host_verifications\n",
      "host_has_profile_pic\n",
      "host_identity_verified\n",
      "street\n",
      "neighbourhood\n",
      "neighbourhood_cleansed\n",
      "neighbourhood_group_cleansed\n",
      "city\n",
      "state\n",
      "zipcode\n",
      "market\n",
      "smart_location\n",
      "country_code\n",
      "country\n",
      "latitude\n",
      "longitude\n",
      "is_location_exact\n",
      "property_type\n",
      "room_type\n",
      "accommodates\n",
      "bathrooms\n",
      "bedrooms\n",
      "beds\n",
      "bed_type\n",
      "amenities\n",
      "square_feet\n",
      "price\n",
      "weekly_price\n",
      "monthly_price\n",
      "security_deposit\n",
      "cleaning_fee\n",
      "guests_included\n",
      "extra_people\n",
      "minimum_nights\n",
      "maximum_nights\n",
      "calendar_updated\n",
      "has_availability\n",
      "availability_30\n",
      "availability_60\n",
      "availability_90\n",
      "availability_365\n",
      "calendar_last_scraped\n",
      "number_of_reviews\n",
      "first_review\n",
      "last_review\n",
      "review_scores_rating\n",
      "review_scores_accuracy\n",
      "review_scores_cleanliness\n",
      "review_scores_checkin\n",
      "review_scores_communication\n",
      "review_scores_location\n",
      "review_scores_value\n",
      "requires_license\n",
      "license\n",
      "jurisdiction_names\n",
      "instant_bookable\n",
      "is_business_travel_ready\n",
      "cancellation_policy\n",
      "require_guest_profile_picture\n",
      "require_guest_phone_verification\n",
      "calculated_host_listings_count\n",
      "reviews_per_month\n"
     ]
    }
   ],
   "source": [
    "for col in data.columns:\n",
    "    print(col)"
   ]
  },
  {
   "cell_type": "markdown",
   "metadata": {},
   "source": [
    "We'll focus in on just the review and price columns and also drop any rows with missing values. There's enough data in this dataset that we don't need to worry too much about imputing values or finding other ways to preserve as much data as possible. "
   ]
  },
  {
   "cell_type": "code",
   "execution_count": 4,
   "metadata": {},
   "outputs": [],
   "source": [
    "relevant_data = data[['review_scores_rating','review_scores_accuracy','review_scores_cleanliness','review_scores_checkin','review_scores_communication','review_scores_location','review_scores_value','price']]\n",
    "cleaned_data = relevant_data.dropna(axis=0)"
   ]
  },
  {
   "cell_type": "markdown",
   "metadata": {},
   "source": [
    "An awkward feature of this data set is that it encodes the price as a string as shown below. Let's strip away the dollar sign, the trailing zeros, and the dot. "
   ]
  },
  {
   "cell_type": "code",
   "execution_count": 5,
   "metadata": {},
   "outputs": [
    {
     "data": {
      "text/plain": [
       "'$80.00'"
      ]
     },
     "execution_count": 5,
     "metadata": {},
     "output_type": "execute_result"
    }
   ],
   "source": [
    "cleaned_data.iloc[0]['price']"
   ]
  },
  {
   "cell_type": "code",
   "execution_count": 6,
   "metadata": {},
   "outputs": [
    {
     "name": "stderr",
     "output_type": "stream",
     "text": [
      "/anaconda3/envs/py36/lib/python3.6/site-packages/pandas/core/indexing.py:543: SettingWithCopyWarning: \n",
      "A value is trying to be set on a copy of a slice from a DataFrame.\n",
      "Try using .loc[row_indexer,col_indexer] = value instead\n",
      "\n",
      "See the caveats in the documentation: http://pandas.pydata.org/pandas-docs/stable/indexing.html#indexing-view-versus-copy\n",
      "  self.obj[item] = s\n"
     ]
    }
   ],
   "source": [
    "cleaned_data.loc[:,'price'] = cleaned_data.loc[:,'price'].str.lstrip('$')\n",
    "cleaned_data.loc[:,'price'] = cleaned_data.loc[:,'price'].str.rstrip('0')\n",
    "cleaned_data.loc[:,'price'] = cleaned_data.loc[:,'price'].str.rstrip('.')"
   ]
  },
  {
   "cell_type": "markdown",
   "metadata": {},
   "source": [
    "This is better but it still won't let us turn the price data into integers. Below you can see that when a number has more than three digits it is broken up with a comma. We'll have to loop through the column and remove any commas from values long enough to have them. This isn't terribly efficient. However, our dataset is small enough that it will do for now. "
   ]
  },
  {
   "cell_type": "code",
   "execution_count": 7,
   "metadata": {},
   "outputs": [
    {
     "data": {
      "text/plain": [
       "'1,250'"
      ]
     },
     "execution_count": 7,
     "metadata": {},
     "output_type": "execute_result"
    }
   ],
   "source": [
    "cleaned_data.iloc[571]['price']"
   ]
  },
  {
   "cell_type": "code",
   "execution_count": 8,
   "metadata": {},
   "outputs": [
    {
     "name": "stderr",
     "output_type": "stream",
     "text": [
      "100%|██████████| 10802/10802 [00:02<00:00, 4180.79it/s]\n"
     ]
    }
   ],
   "source": [
    "for i in tqdm(range(cleaned_data.shape[0])):\n",
    "    if len(cleaned_data.iloc[i]['price']) > 3:\n",
    "        new_val = cleaned_data.iloc[i]['price'].translate({ord(','): None})\n",
    "        cleaned_data.iat[i,7] = new_val"
   ]
  },
  {
   "cell_type": "markdown",
   "metadata": {},
   "source": [
    "Now that we have preprocessed our data we can get on with the investigation itself. Lets split our data into X and y sections, as well as training and testing sets. We will also set the y values to be integers."
   ]
  },
  {
   "cell_type": "code",
   "execution_count": 9,
   "metadata": {},
   "outputs": [],
   "source": [
    "X = cleaned_data[['review_scores_rating','review_scores_accuracy','review_scores_cleanliness','review_scores_checkin','review_scores_communication','review_scores_location','review_scores_value']]"
   ]
  },
  {
   "cell_type": "code",
   "execution_count": 10,
   "metadata": {},
   "outputs": [],
   "source": [
    "y = cleaned_data['price']\n",
    "y = y.astype(int)"
   ]
  },
  {
   "cell_type": "code",
   "execution_count": 12,
   "metadata": {},
   "outputs": [],
   "source": [
    "X_train, X_test, y_train, y_test = train_test_split(X, y, test_size=0.2)"
   ]
  },
  {
   "cell_type": "markdown",
   "metadata": {},
   "source": [
    "Now we perform linear regression on the data. We normalise the data since the price values and review values cover quite different scales. Normalisation fits them all to the same scale.\n",
    "\n",
    "We then calculate the r^2 score. It's very close to zero which suggests that this model does not have much explanatory power. Most people give the best review they can, unless something was really bad so we shouldn't be surprised by the lack of predictive power reviews offer. "
   ]
  },
  {
   "cell_type": "code",
   "execution_count": 13,
   "metadata": {},
   "outputs": [
    {
     "data": {
      "text/plain": [
       "0.0038476744336496393"
      ]
     },
     "execution_count": 13,
     "metadata": {},
     "output_type": "execute_result"
    }
   ],
   "source": [
    "lm_model = LinearRegression(normalize=True)\n",
    "\n",
    "lm_model.fit(X_train, y_train)\n",
    "\n",
    "y_test_preds = lm_model.predict(X_test) \n",
    "\n",
    "rsquared_score = r2_score(y_test, y_test_preds)\n",
    "\n",
    "rsquared_score"
   ]
  },
  {
   "cell_type": "markdown",
   "metadata": {},
   "source": [
    "**How does price vary by neighbourhood?**"
   ]
  },
  {
   "cell_type": "markdown",
   "metadata": {},
   "source": [
    "Let's turn to a different question now. Which areas of Edinburgh are more expensive than others? We'll only need the neighbourhood and price columns for this question so let's get them"
   ]
  },
  {
   "cell_type": "code",
   "execution_count": 14,
   "metadata": {},
   "outputs": [],
   "source": [
    "# Price in each neighbourhood\n",
    "df = pd.DataFrame(data[['neighbourhood','price']]).sort_values(by=['neighbourhood'])"
   ]
  },
  {
   "cell_type": "markdown",
   "metadata": {},
   "source": [
    "We need both of these values so we'll any rows missing one or both of them."
   ]
  },
  {
   "cell_type": "code",
   "execution_count": 15,
   "metadata": {},
   "outputs": [],
   "source": [
    "df = df.dropna()"
   ]
  },
  {
   "cell_type": "code",
   "execution_count": 16,
   "metadata": {},
   "outputs": [
    {
     "data": {
      "text/plain": [
       "array(['Bruntsfield', 'Bruntsfield', 'Bruntsfield', ..., 'West End',\n",
       "       'West End', 'West End'], dtype=object)"
      ]
     },
     "execution_count": 16,
     "metadata": {},
     "output_type": "execute_result"
    }
   ],
   "source": [
    "df.neighbourhood.values"
   ]
  },
  {
   "cell_type": "code",
   "execution_count": 17,
   "metadata": {},
   "outputs": [
    {
     "data": {
      "text/plain": [
       "array(['$56.00', '$50.00', '$26.00', ..., '$341.00', '$50.00', '$34.00'],\n",
       "      dtype=object)"
      ]
     },
     "execution_count": 17,
     "metadata": {},
     "output_type": "execute_result"
    }
   ],
   "source": [
    "df.price.values"
   ]
  },
  {
   "cell_type": "markdown",
   "metadata": {},
   "source": [
    "We'll preprocess the price column again so it is in a usable integer format. Let's also convert the prices to pounds since that's the currency I'll be using next time I book. "
   ]
  },
  {
   "cell_type": "code",
   "execution_count": 18,
   "metadata": {},
   "outputs": [
    {
     "name": "stderr",
     "output_type": "stream",
     "text": [
      "100%|██████████| 9737/9737 [00:01<00:00, 6177.61it/s]\n"
     ]
    }
   ],
   "source": [
    "df.loc[:,'price'] = df.loc[:,'price'].str.lstrip('$')\n",
    "df.loc[:,'price'] = df.loc[:,'price'].str.rstrip('0')\n",
    "df.loc[:,'price'] = df.loc[:,'price'].str.rstrip('.')\n",
    "\n",
    "for i in tqdm(range(df.shape[0])):\n",
    "    if len(df.iloc[i]['price']) > 3:\n",
    "        new_val = df.iloc[i]['price'].translate({ord(','): None})\n",
    "        df.iat[i,1] = new_val\n",
    "        \n",
    "df['price'] = df['price'].astype(int)\n",
    "\n",
    "df['price'] *= 0.76 # The $ to £ exchange last time I checked"
   ]
  },
  {
   "cell_type": "markdown",
   "metadata": {},
   "source": [
    "It looks like the average price across Edinburgh is just over £80 a night. "
   ]
  },
  {
   "cell_type": "code",
   "execution_count": 19,
   "metadata": {},
   "outputs": [
    {
     "data": {
      "text/plain": [
       "81.86917941871165"
      ]
     },
     "execution_count": 19,
     "metadata": {},
     "output_type": "execute_result"
    }
   ],
   "source": [
    "df['price'].mean()"
   ]
  },
  {
   "cell_type": "markdown",
   "metadata": {},
   "source": [
    "Now let's calculate the mean for each area and sort them in descending order. Finally, we'll plot a bar chart of the results."
   ]
  },
  {
   "cell_type": "code",
   "execution_count": 20,
   "metadata": {},
   "outputs": [],
   "source": [
    "keys = df.groupby(['neighbourhood']).mean()['price'].sort_values().keys()\n",
    "values = df.groupby(['neighbourhood']).mean()['price'].sort_values().values"
   ]
  },
  {
   "cell_type": "code",
   "execution_count": 21,
   "metadata": {},
   "outputs": [
    {
     "data": {
      "text/plain": [
       "Text(0.5,1,'AirBnb Prices in Edinburgh Neighbourhoods')"
      ]
     },
     "execution_count": 21,
     "metadata": {},
     "output_type": "execute_result"
    },
    {
     "data": {
      "image/png": "[encoded data removed]",
      "text/plain": [
       "<Figure size 432x288 with 1 Axes>"
      ]
     },
     "metadata": {
      "needs_background": "light"
     },
     "output_type": "display_data"
    }
   ],
   "source": [
    "plt.barh(keys, values)\n",
    "plt.xlabel('Price (£)')\n",
    "plt.ylabel('Neighbourhood')\n",
    "plt.title('AirBnb Prices in Edinburgh Neighbourhoods')"
   ]
  },
  {
   "cell_type": "markdown",
   "metadata": {},
   "source": [
    "Interesting! There's quite some variation which does pass my smell test. Leith is definitely underrated though. Hopefully they'll extend the tram there before long and then it will surely climb up the rankings a bit!"
   ]
  },
  {
   "cell_type": "markdown",
   "metadata": {},
   "source": [
    "**Does adding more listings lower the average price in an area?**"
   ]
  },
  {
   "cell_type": "markdown",
   "metadata": {},
   "source": [
    "Let's see if more people signing up to host on airbnb correlates with prices suppressing prices. I found another site offering Airbnb data for the years 2014 to 2017. I'll use them for this analysis. "
   ]
  },
  {
   "cell_type": "code",
   "execution_count": 22,
   "metadata": {},
   "outputs": [],
   "source": [
    "data_2014 = pd.read_csv('edinburgh/tomslee_airbnb_edinburgh_0032_2014-05-25.csv')\n",
    "data_2017 = pd.read_csv('edinburgh/tomslee_airbnb_edinburgh_1472_2017-07-22.csv')"
   ]
  },
  {
   "cell_type": "code",
   "execution_count": 23,
   "metadata": {},
   "outputs": [],
   "source": [
    "df_2014 = data_2014[['neighborhood', 'price']]\n",
    "df_2017 = data_2017[['neighborhood', 'price']]"
   ]
  },
  {
   "cell_type": "markdown",
   "metadata": {},
   "source": [
    "This data source does not encode prices as strings which is convenient! What we do need to watch out for though are areas being added between 2014 and 2017. We are only interested for now in areas represented in both dataframes so let's drop any rows that weren't added until after 2014."
   ]
  },
  {
   "cell_type": "code",
   "execution_count": 24,
   "metadata": {},
   "outputs": [],
   "source": [
    "rows = []\n",
    "for i in range(df_2017.shape[0]):\n",
    "        if df_2017.iloc[i]['neighborhood'] not in df_2014.neighborhood.values:\n",
    "            rows.append(i)\n",
    "df_2017 = df_2017.drop(rows)"
   ]
  },
  {
   "cell_type": "code",
   "execution_count": 25,
   "metadata": {},
   "outputs": [],
   "source": [
    "# df_2014.neighborhood.value_counts()\n",
    "# df_2017.neighborhood.value_counts()"
   ]
  },
  {
   "cell_type": "markdown",
   "metadata": {},
   "source": [
    "In order to compare the results side by side, let's sort everything alphabetically."
   ]
  },
  {
   "cell_type": "code",
   "execution_count": 26,
   "metadata": {},
   "outputs": [],
   "source": [
    "df_2014_places = df_2014.neighborhood.value_counts().keys().sort_values()\n",
    "df_2014_quantity = [df_2014.neighborhood.value_counts()[n] for n in df_2014_places]\n",
    "\n",
    "df_2017_places = df_2017.neighborhood.value_counts().keys().sort_values()\n",
    "df_2017_quantity = [df_2017.neighborhood.value_counts()[n] for n in df_2017_places]"
   ]
  },
  {
   "cell_type": "markdown",
   "metadata": {},
   "source": [
    "I'm interested in both the supply and the price so let's get both the supply and prices for each year."
   ]
  },
  {
   "cell_type": "code",
   "execution_count": 27,
   "metadata": {},
   "outputs": [],
   "source": [
    "quantity_2017 = {}\n",
    "\n",
    "for i in range(len(df_2017_places)):\n",
    "    quantity_2017[df_2017_places[i]] = df_2017_quantity[i]\n",
    "    \n",
    "quantity_2014 = {}\n",
    "\n",
    "for i in range(len(df_2014_places)):\n",
    "    quantity_2014[df_2014_places[i]] = df_2014_quantity[i]"
   ]
  },
  {
   "cell_type": "code",
   "execution_count": 39,
   "metadata": {},
   "outputs": [],
   "source": [
    "# print(quantity_2017.keys())\n",
    "# print(quantity_2017.values())"
   ]
  },
  {
   "cell_type": "code",
   "execution_count": 29,
   "metadata": {},
   "outputs": [],
   "source": [
    "keys_2014 = df_2014.groupby(['neighborhood']).mean()['price'].keys()\n",
    "values_2014 = df_2014.groupby(['neighborhood']).mean()['price'].values"
   ]
  },
  {
   "cell_type": "code",
   "execution_count": 30,
   "metadata": {},
   "outputs": [],
   "source": [
    "keys_2017 = df_2017.groupby(['neighborhood']).mean()['price'].keys()\n",
    "values_2017 = df_2017.groupby(['neighborhood']).mean()['price'].values"
   ]
  },
  {
   "cell_type": "markdown",
   "metadata": {},
   "source": [
    "And now let's plot the results!"
   ]
  },
  {
   "cell_type": "code",
   "execution_count": 31,
   "metadata": {},
   "outputs": [
    {
     "data": {
      "text/plain": [
       "Text(0.5,0,'Price ($)')"
      ]
     },
     "execution_count": 31,
     "metadata": {},
     "output_type": "execute_result"
    },
    {
     "data": {
      "image/png": "[encoded data removed]",
      "text/plain": [
       "<Figure size 720x720 with 4 Axes>"
      ]
     },
     "metadata": {
      "needs_background": "light"
     },
     "output_type": "display_data"
    }
   ],
   "source": [
    "plt.figure(figsize=(10,10))\n",
    "\n",
    "plt.subplot(2,2,1)\n",
    "plt.barh(range(len(quantity_2014)), list(quantity_2014.values()))\n",
    "plt.yticks(range(len(quantity_2014)), list(quantity_2014.keys()))\n",
    "plt.xlabel('Quantity')\n",
    "plt.ylabel('Neighbourhood')\n",
    "\n",
    "plt.subplot(2,2,2)\n",
    "plt.barh(range(len(quantity_2017)), list(quantity_2017.values()))\n",
    "plt.yticks(range(len(quantity_2017)), list(quantity_2017.keys()))\n",
    "plt.xlabel('Quantity')\n",
    "\n",
    "plt.subplot(2, 2, 3)\n",
    "plt.subplots_adjust(wspace=0.7)\n",
    "plt.barh(keys_2014, values_2014)\n",
    "plt.xlabel('Price ($)')\n",
    "plt.ylabel('Neighbourhood')\n",
    "\n",
    "plt.subplot(2, 2, 4)\n",
    "plt.barh(keys_2017, values_2017)\n",
    "plt.xlabel('Price ($)')"
   ]
  },
  {
   "cell_type": "markdown",
   "metadata": {},
   "source": [
    "It's possible to eyeball a few changes, but it would be easier if we just plotted the change in quantity on the market and the change in price."
   ]
  },
  {
   "cell_type": "code",
   "execution_count": 32,
   "metadata": {},
   "outputs": [],
   "source": [
    "diff_dict_quantity = {key: quantity_2017[key] - quantity_2014.get(key, 0) for key in quantity_2017.keys()}"
   ]
  },
  {
   "cell_type": "code",
   "execution_count": 33,
   "metadata": {},
   "outputs": [],
   "source": [
    "diff_price = values_2017 - values_2014"
   ]
  },
  {
   "cell_type": "code",
   "execution_count": 34,
   "metadata": {},
   "outputs": [
    {
     "data": {
      "text/plain": [
       "Text(0.5,0,'Price ($)')"
      ]
     },
     "execution_count": 34,
     "metadata": {},
     "output_type": "execute_result"
    },
    {
     "data": {
      "image/png": "[encoded data removed]",
      "text/plain": [
       "<Figure size 360x720 with 2 Axes>"
      ]
     },
     "metadata": {
      "needs_background": "light"
     },
     "output_type": "display_data"
    }
   ],
   "source": [
    "plt.figure(figsize=(5,10))\n",
    "\n",
    "plt.subplot(2, 1, 1)\n",
    "plt.barh(range(len(diff_dict_quantity)), list(diff_dict_quantity.values()))\n",
    "plt.yticks(range(len(diff_dict_quantity)), list(diff_dict_quantity.keys()))\n",
    "plt.xlabel('Quantity')\n",
    "plt.ylabel('Neighbourhood')\n",
    "\n",
    "plt.subplot(2, 1, 2)\n",
    "plt.barh(keys_2017, diff_price)\n",
    "plt.xlabel('Price ($)')"
   ]
  },
  {
   "cell_type": "markdown",
   "metadata": {},
   "source": [
    "Now we can see that as supply went up everywhere prices did generally fall. However, is this trend significant? The supply in South Morningside went up the least and was where prices went *up* the most. Meanwhile however, Granton added the second lowest amount of supply and prices there went *down* the most.\n",
    "\n",
    "In order to test the significance of this trend, I'll normalise the change in supply and price data and then calculate the pearsonr values for them. "
   ]
  },
  {
   "cell_type": "code",
   "execution_count": 40,
   "metadata": {},
   "outputs": [],
   "source": [
    "supply = np.array(list(diff_dict_quantity.values()))\n",
    "price = np.array(list(diff_price))"
   ]
  },
  {
   "cell_type": "code",
   "execution_count": 41,
   "metadata": {},
   "outputs": [],
   "source": [
    "normalised_supply = normalize(supply.reshape(1,-1))\n",
    "normalised_price = normalize(price.reshape(1,-1))"
   ]
  },
  {
   "cell_type": "code",
   "execution_count": 42,
   "metadata": {},
   "outputs": [
    {
     "data": {
      "text/plain": [
       "(-0.09477330945128504, 0.6522612861079518)"
      ]
     },
     "execution_count": 42,
     "metadata": {},
     "output_type": "execute_result"
    }
   ],
   "source": [
    "pearsonr(normalised_supply.squeeze(), normalised_price.squeeze())"
   ]
  },
  {
   "cell_type": "markdown",
   "metadata": {},
   "source": [
    "So there it is. There is only a very small (-0.09) trend in the the direction we were expecting and a significance of 0.65 is not statistically significant at all. To really investigate this relationship further, we would have to control for some factors, and possibly look at data from other time periods as well. \n",
    "\n",
    "The 2014 numbers are interesting though because they were scraped only about a month before Edinburgh's tram began running from the Airport into the city centre. Going forward it would be interesting to investigate whether the areas close to the tram's route have been able to raise their prices since they are now in a much more convenient location for visitors to the city. "
   ]
  },
  {
   "cell_type": "code",
   "execution_count": null,
   "metadata": {},
   "outputs": [],
   "source": []
  }
 ],
 "metadata": {
  "kernelspec": {
   "display_name": "Python 3",
   "language": "python",
   "name": "python3"
  },
  "language_info": {
   "codemirror_mode": {
    "name": "ipython",
    "version": 3
   },
   "file_extension": ".py",
   "mimetype": "text/x-python",
   "name": "python",
   "nbconvert_exporter": "python",
   "pygments_lexer": "ipython3",
   "version": "3.6.6"
  }
 },
 "nbformat": 4,
 "nbformat_minor": 2
}
